{
 "cells": [
  {
   "cell_type": "code",
   "execution_count": 1,
   "metadata": {},
   "outputs": [],
   "source": [
    "# Dependencies\n",
    "\n",
    "import gmaps\n",
    "import numpy as np\n",
    "import pandas as pd\n",
    "import requests\n",
    "import time\n",
    "from datetime import datetime\n",
    "from scipy.stats import linregress\n",
    "from matplotlib import pyplot as plt\n",
    "from config_Laura import (gkey)"
   ]
  },
  {
   "cell_type": "code",
   "execution_count": 2,
   "metadata": {},
   "outputs": [
    {
     "data": {
      "text/html": [
       "<div>\n",
       "<style scoped>\n",
       "    .dataframe tbody tr th:only-of-type {\n",
       "        vertical-align: middle;\n",
       "    }\n",
       "\n",
       "    .dataframe tbody tr th {\n",
       "        vertical-align: top;\n",
       "    }\n",
       "\n",
       "    .dataframe thead th {\n",
       "        text-align: right;\n",
       "    }\n",
       "</style>\n",
       "<table border=\"1\" class=\"dataframe\">\n",
       "  <thead>\n",
       "    <tr style=\"text-align: right;\">\n",
       "      <th></th>\n",
       "      <th>ZipCode</th>\n",
       "      <th>County</th>\n",
       "      <th>Lat</th>\n",
       "      <th>Lng</th>\n",
       "      <th>walk score</th>\n",
       "      <th>bike score</th>\n",
       "    </tr>\n",
       "  </thead>\n",
       "  <tbody>\n",
       "    <tr>\n",
       "      <th>0</th>\n",
       "      <td>95412</td>\n",
       "      <td>Sonoma County</td>\n",
       "      <td>38.713892</td>\n",
       "      <td>-123.326167</td>\n",
       "      <td>0</td>\n",
       "      <td>NaN</td>\n",
       "    </tr>\n",
       "    <tr>\n",
       "      <th>1</th>\n",
       "      <td>95017</td>\n",
       "      <td>Santa Cruz County</td>\n",
       "      <td>37.091858</td>\n",
       "      <td>-122.231354</td>\n",
       "      <td>0</td>\n",
       "      <td>3.0</td>\n",
       "    </tr>\n",
       "    <tr>\n",
       "      <th>2</th>\n",
       "      <td>94020</td>\n",
       "      <td>San Mateo County</td>\n",
       "      <td>37.291115</td>\n",
       "      <td>-122.208658</td>\n",
       "      <td>0</td>\n",
       "      <td>9.0</td>\n",
       "    </tr>\n",
       "    <tr>\n",
       "      <th>3</th>\n",
       "      <td>94060</td>\n",
       "      <td>San Mateo County</td>\n",
       "      <td>37.205116</td>\n",
       "      <td>-122.333426</td>\n",
       "      <td>0</td>\n",
       "      <td>10.0</td>\n",
       "    </tr>\n",
       "    <tr>\n",
       "      <th>4</th>\n",
       "      <td>93110</td>\n",
       "      <td>Santa Barbara County</td>\n",
       "      <td>34.508431</td>\n",
       "      <td>-119.731021</td>\n",
       "      <td>0</td>\n",
       "      <td>NaN</td>\n",
       "    </tr>\n",
       "  </tbody>\n",
       "</table>\n",
       "</div>"
      ],
      "text/plain": [
       "   ZipCode                County        Lat         Lng  walk score  \\\n",
       "0    95412         Sonoma County  38.713892 -123.326167           0   \n",
       "1    95017     Santa Cruz County  37.091858 -122.231354           0   \n",
       "2    94020      San Mateo County  37.291115 -122.208658           0   \n",
       "3    94060      San Mateo County  37.205116 -122.333426           0   \n",
       "4    93110  Santa Barbara County  34.508431 -119.731021           0   \n",
       "\n",
       "   bike score  \n",
       "0         NaN  \n",
       "1         3.0  \n",
       "2         9.0  \n",
       "3        10.0  \n",
       "4         NaN  "
      ]
     },
     "execution_count": 2,
     "metadata": {},
     "output_type": "execute_result"
    }
   ],
   "source": [
    "walkscore_map = pd.read_csv('Resources_Laura/walkscore_mapping.csv')\n",
    "walkscore_map.head()"
   ]
  },
  {
   "cell_type": "code",
   "execution_count": 3,
   "metadata": {},
   "outputs": [],
   "source": [
    "#CONFIGURE GMAPS\n",
    "gmaps.configure(api_key=gkey)\n",
    "\n",
    "# Store 'Lat' and 'Lng' into  locations \n",
    "locations = walkscore_map[[\"Lat\", \"Lng\"]].astype(float)\n",
    "\n",
    "# humity to plot heat map\n",
    "score = walkscore_map[\"walk score\"].astype(float)"
   ]
  },
  {
   "cell_type": "code",
   "execution_count": 4,
   "metadata": {},
   "outputs": [
    {
     "data": {
      "application/vnd.jupyter.widget-view+json": {
       "model_id": "451ae83f56074433864289345939bf29",
       "version_major": 2,
       "version_minor": 0
      },
      "text/plain": [
       "Figure(layout=FigureLayout(height='420px'))"
      ]
     },
     "metadata": {},
     "output_type": "display_data"
    }
   ],
   "source": [
    "# location Heatmap layer\n",
    "fig = gmaps.figure()\n",
    "\n",
    "heat_layer = gmaps.heatmap_layer(locations, weights=score, \n",
    "                                 dissipating=False, max_intensity=100,\n",
    "                                 point_radius = 0.2)\n",
    "\n",
    "fig.add_layer(heat_layer)\n",
    "\n",
    "fig"
   ]
  },
  {
   "cell_type": "code",
   "execution_count": null,
   "metadata": {},
   "outputs": [],
   "source": []
  }
 ],
 "metadata": {
  "kernelspec": {
   "display_name": "Python 3",
   "language": "python",
   "name": "python3"
  },
  "language_info": {
   "codemirror_mode": {
    "name": "ipython",
    "version": 3
   },
   "file_extension": ".py",
   "mimetype": "text/x-python",
   "name": "python",
   "nbconvert_exporter": "python",
   "pygments_lexer": "ipython3",
   "version": "3.8.5"
  }
 },
 "nbformat": 4,
 "nbformat_minor": 4
}
