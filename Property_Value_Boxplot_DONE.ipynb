{
 "cells": [
  {
   "cell_type": "markdown",
   "metadata": {},
   "source": [
    "# In this code, we will incorporate to graphs to better understand price dynamic to show average value over the past 5 years for each type of house"
   ]
  },
  {
   "cell_type": "code",
   "execution_count": 1,
   "metadata": {},
   "outputs": [],
   "source": [
    "# importing all dependencies (just in case)\n",
    "\n",
    "import gmaps\n",
    "import numpy as np\n",
    "import pandas as pd\n",
    "import requests\n",
    "import time\n",
    "from datetime import datetime\n",
    "import seaborn as sns\n",
    "from scipy.stats import linregress\n",
    "from matplotlib import pyplot as plt\n",
    "from config_Laura import (gkey2)"
   ]
  },
  {
   "cell_type": "code",
   "execution_count": 2,
   "metadata": {},
   "outputs": [],
   "source": [
    "# Zillow has their datasets divided by how many bedrooms there are: importing all datasets, to then merge them and clean them\n",
    "zillow_value_1 = pd.read_csv('Resources_Laura/zillow_value_1.csv')\n",
    "zillow_value_2 = pd.read_csv('Resources_Laura/zillow_value_2.csv')\n",
    "zillow_value_3 = pd.read_csv('Resources_Laura/zillow_value_3.csv')"
   ]
  },
  {
   "cell_type": "code",
   "execution_count": 3,
   "metadata": {},
   "outputs": [],
   "source": [
    "# adding a column to show how many bedrooms, based on the dataset, so that it is clear once it is merged.\n",
    "zillow_value_1['Bdrm'] = \"1\"\n",
    "zillow_value_2['Bdrm'] = \"2\"\n",
    "zillow_value_3['Bdrm'] = \"3\""
   ]
  },
  {
   "cell_type": "code",
   "execution_count": 4,
   "metadata": {},
   "outputs": [],
   "source": [
    "properties = pd.concat([zillow_value_1,zillow_value_2,zillow_value_3])"
   ]
  },
  {
   "cell_type": "code",
   "execution_count": 5,
   "metadata": {},
   "outputs": [],
   "source": [
    "properties_ca = properties.loc[properties['State']==\"CA\"]"
   ]
  },
  {
   "cell_type": "code",
   "execution_count": 6,
   "metadata": {},
   "outputs": [
    {
     "data": {
      "text/html": [
       "<div>\n",
       "<style scoped>\n",
       "    .dataframe tbody tr th:only-of-type {\n",
       "        vertical-align: middle;\n",
       "    }\n",
       "\n",
       "    .dataframe tbody tr th {\n",
       "        vertical-align: top;\n",
       "    }\n",
       "\n",
       "    .dataframe thead th {\n",
       "        text-align: right;\n",
       "    }\n",
       "</style>\n",
       "<table border=\"1\" class=\"dataframe\">\n",
       "  <thead>\n",
       "    <tr style=\"text-align: right;\">\n",
       "      <th></th>\n",
       "      <th>RegionID</th>\n",
       "      <th>SizeRank</th>\n",
       "      <th>RegionName</th>\n",
       "      <th>RegionType</th>\n",
       "      <th>StateName</th>\n",
       "      <th>State</th>\n",
       "      <th>City</th>\n",
       "      <th>Metro</th>\n",
       "      <th>CountyName</th>\n",
       "      <th>1/31/96</th>\n",
       "      <th>...</th>\n",
       "      <th>7/31/20</th>\n",
       "      <th>8/31/20</th>\n",
       "      <th>9/30/20</th>\n",
       "      <th>10/31/20</th>\n",
       "      <th>11/30/20</th>\n",
       "      <th>12/31/20</th>\n",
       "      <th>1/31/21</th>\n",
       "      <th>2/28/21</th>\n",
       "      <th>3/31/21</th>\n",
       "      <th>Bdrm</th>\n",
       "    </tr>\n",
       "  </thead>\n",
       "  <tbody>\n",
       "    <tr>\n",
       "      <th>12</th>\n",
       "      <td>97564</td>\n",
       "      <td>13</td>\n",
       "      <td>94109</td>\n",
       "      <td>Zip</td>\n",
       "      <td>CA</td>\n",
       "      <td>CA</td>\n",
       "      <td>San Francisco</td>\n",
       "      <td>San Francisco-Oakland-Hayward</td>\n",
       "      <td>San Francisco County</td>\n",
       "      <td>257591.0</td>\n",
       "      <td>...</td>\n",
       "      <td>867306</td>\n",
       "      <td>865503</td>\n",
       "      <td>864815</td>\n",
       "      <td>857989</td>\n",
       "      <td>852618</td>\n",
       "      <td>841552</td>\n",
       "      <td>833637</td>\n",
       "      <td>824861</td>\n",
       "      <td>820867</td>\n",
       "      <td>1</td>\n",
       "    </tr>\n",
       "  </tbody>\n",
       "</table>\n",
       "<p>1 rows × 313 columns</p>\n",
       "</div>"
      ],
      "text/plain": [
       "    RegionID  SizeRank  RegionName RegionType StateName State           City  \\\n",
       "12     97564        13       94109        Zip        CA    CA  San Francisco   \n",
       "\n",
       "                            Metro            CountyName   1/31/96  ...  \\\n",
       "12  San Francisco-Oakland-Hayward  San Francisco County  257591.0  ...   \n",
       "\n",
       "    7/31/20  8/31/20  9/30/20  10/31/20  11/30/20  12/31/20  1/31/21  2/28/21  \\\n",
       "12   867306   865503   864815    857989    852618    841552   833637   824861   \n",
       "\n",
       "    3/31/21  Bdrm  \n",
       "12   820867     1  \n",
       "\n",
       "[1 rows x 313 columns]"
      ]
     },
     "execution_count": 6,
     "metadata": {},
     "output_type": "execute_result"
    }
   ],
   "source": [
    "properties_ca.head(1)"
   ]
  },
  {
   "cell_type": "code",
   "execution_count": 7,
   "metadata": {},
   "outputs": [
    {
     "data": {
      "text/html": [
       "<div>\n",
       "<style scoped>\n",
       "    .dataframe tbody tr th:only-of-type {\n",
       "        vertical-align: middle;\n",
       "    }\n",
       "\n",
       "    .dataframe tbody tr th {\n",
       "        vertical-align: top;\n",
       "    }\n",
       "\n",
       "    .dataframe thead th {\n",
       "        text-align: right;\n",
       "    }\n",
       "</style>\n",
       "<table border=\"1\" class=\"dataframe\">\n",
       "  <thead>\n",
       "    <tr style=\"text-align: right;\">\n",
       "      <th></th>\n",
       "      <th>RegionID</th>\n",
       "      <th>SizeRank</th>\n",
       "      <th>RegionName</th>\n",
       "      <th>RegionType</th>\n",
       "      <th>StateName</th>\n",
       "      <th>State</th>\n",
       "      <th>City</th>\n",
       "      <th>Metro</th>\n",
       "      <th>CountyName</th>\n",
       "      <th>Bdrm</th>\n",
       "      <th>variable</th>\n",
       "      <th>value</th>\n",
       "    </tr>\n",
       "  </thead>\n",
       "  <tbody>\n",
       "    <tr>\n",
       "      <th>0</th>\n",
       "      <td>97564</td>\n",
       "      <td>13</td>\n",
       "      <td>94109</td>\n",
       "      <td>Zip</td>\n",
       "      <td>CA</td>\n",
       "      <td>CA</td>\n",
       "      <td>San Francisco</td>\n",
       "      <td>San Francisco-Oakland-Hayward</td>\n",
       "      <td>San Francisco County</td>\n",
       "      <td>1</td>\n",
       "      <td>1/31/96</td>\n",
       "      <td>257591.0</td>\n",
       "    </tr>\n",
       "    <tr>\n",
       "      <th>1</th>\n",
       "      <td>96107</td>\n",
       "      <td>22</td>\n",
       "      <td>90250</td>\n",
       "      <td>Zip</td>\n",
       "      <td>CA</td>\n",
       "      <td>CA</td>\n",
       "      <td>Hawthorne</td>\n",
       "      <td>Los Angeles-Long Beach-Anaheim</td>\n",
       "      <td>Los Angeles County</td>\n",
       "      <td>1</td>\n",
       "      <td>1/31/96</td>\n",
       "      <td>182615.0</td>\n",
       "    </tr>\n",
       "    <tr>\n",
       "      <th>2</th>\n",
       "      <td>97771</td>\n",
       "      <td>40</td>\n",
       "      <td>94565</td>\n",
       "      <td>Zip</td>\n",
       "      <td>CA</td>\n",
       "      <td>CA</td>\n",
       "      <td>Pittsburg</td>\n",
       "      <td>San Francisco-Oakland-Hayward</td>\n",
       "      <td>Contra Costa County</td>\n",
       "      <td>1</td>\n",
       "      <td>1/31/96</td>\n",
       "      <td>NaN</td>\n",
       "    </tr>\n",
       "    <tr>\n",
       "      <th>3</th>\n",
       "      <td>96027</td>\n",
       "      <td>44</td>\n",
       "      <td>90046</td>\n",
       "      <td>Zip</td>\n",
       "      <td>CA</td>\n",
       "      <td>CA</td>\n",
       "      <td>Los Angeles</td>\n",
       "      <td>Los Angeles-Long Beach-Anaheim</td>\n",
       "      <td>Los Angeles County</td>\n",
       "      <td>1</td>\n",
       "      <td>1/31/96</td>\n",
       "      <td>119762.0</td>\n",
       "    </tr>\n",
       "    <tr>\n",
       "      <th>4</th>\n",
       "      <td>97711</td>\n",
       "      <td>88</td>\n",
       "      <td>94501</td>\n",
       "      <td>Zip</td>\n",
       "      <td>CA</td>\n",
       "      <td>CA</td>\n",
       "      <td>Alameda</td>\n",
       "      <td>San Francisco-Oakland-Hayward</td>\n",
       "      <td>Alameda County</td>\n",
       "      <td>1</td>\n",
       "      <td>1/31/96</td>\n",
       "      <td>132380.0</td>\n",
       "    </tr>\n",
       "  </tbody>\n",
       "</table>\n",
       "</div>"
      ],
      "text/plain": [
       "   RegionID  SizeRank  RegionName RegionType StateName State           City  \\\n",
       "0     97564        13       94109        Zip        CA    CA  San Francisco   \n",
       "1     96107        22       90250        Zip        CA    CA      Hawthorne   \n",
       "2     97771        40       94565        Zip        CA    CA      Pittsburg   \n",
       "3     96027        44       90046        Zip        CA    CA    Los Angeles   \n",
       "4     97711        88       94501        Zip        CA    CA        Alameda   \n",
       "\n",
       "                            Metro            CountyName Bdrm variable  \\\n",
       "0   San Francisco-Oakland-Hayward  San Francisco County    1  1/31/96   \n",
       "1  Los Angeles-Long Beach-Anaheim    Los Angeles County    1  1/31/96   \n",
       "2   San Francisco-Oakland-Hayward   Contra Costa County    1  1/31/96   \n",
       "3  Los Angeles-Long Beach-Anaheim    Los Angeles County    1  1/31/96   \n",
       "4   San Francisco-Oakland-Hayward        Alameda County    1  1/31/96   \n",
       "\n",
       "      value  \n",
       "0  257591.0  \n",
       "1  182615.0  \n",
       "2       NaN  \n",
       "3  119762.0  \n",
       "4  132380.0  "
      ]
     },
     "execution_count": 7,
     "metadata": {},
     "output_type": "execute_result"
    }
   ],
   "source": [
    "#transpose the dates, so that we can have the date as a value in a row, vs the column name. This will make a line trending easier to plot and read.\n",
    "properties_ca_transposed = pd.melt(properties_ca, id_vars=['RegionID','SizeRank','RegionName','RegionType','StateName','State','City','Metro','CountyName','Bdrm'])\n",
    "properties_ca_transposed.head()"
   ]
  },
  {
   "cell_type": "code",
   "execution_count": 8,
   "metadata": {
    "scrolled": true
   },
   "outputs": [
    {
     "data": {
      "text/html": [
       "<div>\n",
       "<style scoped>\n",
       "    .dataframe tbody tr th:only-of-type {\n",
       "        vertical-align: middle;\n",
       "    }\n",
       "\n",
       "    .dataframe tbody tr th {\n",
       "        vertical-align: top;\n",
       "    }\n",
       "\n",
       "    .dataframe thead th {\n",
       "        text-align: right;\n",
       "    }\n",
       "</style>\n",
       "<table border=\"1\" class=\"dataframe\">\n",
       "  <thead>\n",
       "    <tr style=\"text-align: right;\">\n",
       "      <th></th>\n",
       "      <th>RegionID</th>\n",
       "      <th>SizeRank</th>\n",
       "      <th>RegionName</th>\n",
       "      <th>RegionType</th>\n",
       "      <th>StateName</th>\n",
       "      <th>State</th>\n",
       "      <th>City</th>\n",
       "      <th>Metro</th>\n",
       "      <th>CountyName</th>\n",
       "      <th>Bdrm</th>\n",
       "      <th>variable</th>\n",
       "      <th>value</th>\n",
       "    </tr>\n",
       "  </thead>\n",
       "  <tbody>\n",
       "    <tr>\n",
       "      <th>0</th>\n",
       "      <td>97564</td>\n",
       "      <td>13</td>\n",
       "      <td>94109</td>\n",
       "      <td>Zip</td>\n",
       "      <td>CA</td>\n",
       "      <td>CA</td>\n",
       "      <td>San Francisco</td>\n",
       "      <td>San Francisco-Oakland-Hayward</td>\n",
       "      <td>San Francisco County</td>\n",
       "      <td>1</td>\n",
       "      <td>1/31/96</td>\n",
       "      <td>257591.0</td>\n",
       "    </tr>\n",
       "    <tr>\n",
       "      <th>1</th>\n",
       "      <td>96107</td>\n",
       "      <td>22</td>\n",
       "      <td>90250</td>\n",
       "      <td>Zip</td>\n",
       "      <td>CA</td>\n",
       "      <td>CA</td>\n",
       "      <td>Hawthorne</td>\n",
       "      <td>Los Angeles-Long Beach-Anaheim</td>\n",
       "      <td>Los Angeles County</td>\n",
       "      <td>1</td>\n",
       "      <td>1/31/96</td>\n",
       "      <td>182615.0</td>\n",
       "    </tr>\n",
       "    <tr>\n",
       "      <th>3</th>\n",
       "      <td>96027</td>\n",
       "      <td>44</td>\n",
       "      <td>90046</td>\n",
       "      <td>Zip</td>\n",
       "      <td>CA</td>\n",
       "      <td>CA</td>\n",
       "      <td>Los Angeles</td>\n",
       "      <td>Los Angeles-Long Beach-Anaheim</td>\n",
       "      <td>Los Angeles County</td>\n",
       "      <td>1</td>\n",
       "      <td>1/31/96</td>\n",
       "      <td>119762.0</td>\n",
       "    </tr>\n",
       "    <tr>\n",
       "      <th>4</th>\n",
       "      <td>97711</td>\n",
       "      <td>88</td>\n",
       "      <td>94501</td>\n",
       "      <td>Zip</td>\n",
       "      <td>CA</td>\n",
       "      <td>CA</td>\n",
       "      <td>Alameda</td>\n",
       "      <td>San Francisco-Oakland-Hayward</td>\n",
       "      <td>Alameda County</td>\n",
       "      <td>1</td>\n",
       "      <td>1/31/96</td>\n",
       "      <td>132380.0</td>\n",
       "    </tr>\n",
       "    <tr>\n",
       "      <th>5</th>\n",
       "      <td>97565</td>\n",
       "      <td>94</td>\n",
       "      <td>94110</td>\n",
       "      <td>Zip</td>\n",
       "      <td>CA</td>\n",
       "      <td>CA</td>\n",
       "      <td>San Francisco</td>\n",
       "      <td>San Francisco-Oakland-Hayward</td>\n",
       "      <td>San Francisco County</td>\n",
       "      <td>1</td>\n",
       "      <td>1/31/96</td>\n",
       "      <td>214062.0</td>\n",
       "    </tr>\n",
       "  </tbody>\n",
       "</table>\n",
       "</div>"
      ],
      "text/plain": [
       "   RegionID  SizeRank  RegionName RegionType StateName State           City  \\\n",
       "0     97564        13       94109        Zip        CA    CA  San Francisco   \n",
       "1     96107        22       90250        Zip        CA    CA      Hawthorne   \n",
       "3     96027        44       90046        Zip        CA    CA    Los Angeles   \n",
       "4     97711        88       94501        Zip        CA    CA        Alameda   \n",
       "5     97565        94       94110        Zip        CA    CA  San Francisco   \n",
       "\n",
       "                            Metro            CountyName Bdrm variable  \\\n",
       "0   San Francisco-Oakland-Hayward  San Francisco County    1  1/31/96   \n",
       "1  Los Angeles-Long Beach-Anaheim    Los Angeles County    1  1/31/96   \n",
       "3  Los Angeles-Long Beach-Anaheim    Los Angeles County    1  1/31/96   \n",
       "4   San Francisco-Oakland-Hayward        Alameda County    1  1/31/96   \n",
       "5   San Francisco-Oakland-Hayward  San Francisco County    1  1/31/96   \n",
       "\n",
       "      value  \n",
       "0  257591.0  \n",
       "1  182615.0  \n",
       "3  119762.0  \n",
       "4  132380.0  \n",
       "5  214062.0  "
      ]
     },
     "execution_count": 8,
     "metadata": {},
     "output_type": "execute_result"
    }
   ],
   "source": [
    "properties_ca_transposed = properties_ca_transposed.dropna()\n",
    "properties_ca_transposed.head()"
   ]
  },
  {
   "cell_type": "code",
   "execution_count": 9,
   "metadata": {},
   "outputs": [],
   "source": [
    "properties_ca_transposed['variable']= pd.to_datetime(properties_ca_transposed['variable'])"
   ]
  },
  {
   "cell_type": "code",
   "execution_count": 10,
   "metadata": {},
   "outputs": [
    {
     "data": {
      "text/html": [
       "<div>\n",
       "<style scoped>\n",
       "    .dataframe tbody tr th:only-of-type {\n",
       "        vertical-align: middle;\n",
       "    }\n",
       "\n",
       "    .dataframe tbody tr th {\n",
       "        vertical-align: top;\n",
       "    }\n",
       "\n",
       "    .dataframe thead th {\n",
       "        text-align: right;\n",
       "    }\n",
       "</style>\n",
       "<table border=\"1\" class=\"dataframe\">\n",
       "  <thead>\n",
       "    <tr style=\"text-align: right;\">\n",
       "      <th></th>\n",
       "      <th>RegionID</th>\n",
       "      <th>SizeRank</th>\n",
       "      <th>RegionName</th>\n",
       "      <th>RegionType</th>\n",
       "      <th>StateName</th>\n",
       "      <th>State</th>\n",
       "      <th>City</th>\n",
       "      <th>Metro</th>\n",
       "      <th>CountyName</th>\n",
       "      <th>Bdrm</th>\n",
       "      <th>Date</th>\n",
       "      <th>value</th>\n",
       "    </tr>\n",
       "  </thead>\n",
       "  <tbody>\n",
       "    <tr>\n",
       "      <th>981504</th>\n",
       "      <td>97564</td>\n",
       "      <td>13</td>\n",
       "      <td>94109</td>\n",
       "      <td>Zip</td>\n",
       "      <td>CA</td>\n",
       "      <td>CA</td>\n",
       "      <td>San Francisco</td>\n",
       "      <td>San Francisco-Oakland-Hayward</td>\n",
       "      <td>San Francisco County</td>\n",
       "      <td>1</td>\n",
       "      <td>2014-01-31</td>\n",
       "      <td>716780.0</td>\n",
       "    </tr>\n",
       "  </tbody>\n",
       "</table>\n",
       "</div>"
      ],
      "text/plain": [
       "        RegionID  SizeRank  RegionName RegionType StateName State  \\\n",
       "981504     97564        13       94109        Zip        CA    CA   \n",
       "\n",
       "                 City                          Metro            CountyName  \\\n",
       "981504  San Francisco  San Francisco-Oakland-Hayward  San Francisco County   \n",
       "\n",
       "       Bdrm       Date     value  \n",
       "981504    1 2014-01-31  716780.0  "
      ]
     },
     "execution_count": 10,
     "metadata": {},
     "output_type": "execute_result"
    }
   ],
   "source": [
    "#only select prices post 1/31/2014 to make it consistent with the remaining of our analysis\n",
    "properties_ca_clean = properties_ca_transposed.loc[properties_ca_transposed['variable']>='1/31/2014']\n",
    "properties_ca_clean = properties_ca_clean.rename(columns={'variable':'Date'})\n",
    "properties_ca_clean.head(1)"
   ]
  },
  {
   "cell_type": "code",
   "execution_count": 11,
   "metadata": {
    "scrolled": true
   },
   "outputs": [
    {
     "data": {
      "text/plain": [
       "RegionID               int64\n",
       "SizeRank               int64\n",
       "RegionName             int64\n",
       "RegionType            object\n",
       "StateName             object\n",
       "State                 object\n",
       "City                  object\n",
       "Metro                 object\n",
       "CountyName            object\n",
       "Bdrm                  object\n",
       "Date          datetime64[ns]\n",
       "value                float64\n",
       "dtype: object"
      ]
     },
     "execution_count": 11,
     "metadata": {},
     "output_type": "execute_result"
    }
   ],
   "source": [
    "properties_ca_clean.dtypes"
   ]
  },
  {
   "cell_type": "markdown",
   "metadata": {},
   "source": [
    "### Boxplot:"
   ]
  },
  {
   "cell_type": "code",
   "execution_count": 12,
   "metadata": {},
   "outputs": [
    {
     "data": {
      "text/plain": [
       "47331"
      ]
     },
     "execution_count": 12,
     "metadata": {},
     "output_type": "execute_result"
    }
   ],
   "source": [
    "# add year to dataframe\n",
    "properties_ca_clean['year'] = properties_ca_clean['Date'].dt.strftime('%y')\n",
    "len(properties_ca_clean.loc[properties_ca_clean['year']==\"14\"])"
   ]
  },
  {
   "cell_type": "code",
   "execution_count": 13,
   "metadata": {},
   "outputs": [
    {
     "data": {
      "text/plain": [
       "130363"
      ]
     },
     "execution_count": 13,
     "metadata": {},
     "output_type": "execute_result"
    }
   ],
   "source": [
    "#separate the dataset by room, to have a boxplot for each separate room\n",
    "property_one = properties_ca_clean.loc[properties_ca_clean['Bdrm']==\"1\"]\n",
    "property_two = properties_ca_clean.loc[properties_ca_clean['Bdrm']==\"2\"]\n",
    "property_three = properties_ca_clean.loc[properties_ca_clean['Bdrm']==\"3\"]\n",
    "len(property_three)\n"
   ]
  },
  {
   "cell_type": "code",
   "execution_count": 14,
   "metadata": {
    "scrolled": true
   },
   "outputs": [
    {
     "data": {
      "image/png": "[encoded data removed]",
      "text/plain": [
       "<Figure size 576x432 with 1 Axes>"
      ]
     },
     "metadata": {
      "needs_background": "light"
     },
     "output_type": "display_data"
    }
   ],
   "source": [
    "#plotting box and whisker\n",
    "fig, ax = plt.subplots()\n",
    "fig.set_size_inches((8,6))\n",
    "sns.boxplot(x='year',y='value',data=property_one,ax=ax)\n",
    "ax.set_title('One Bedrooms Property Value Distribution per Year')\n",
    "\n",
    "medians = property_one.groupby(['year'])['value'].median().values\n",
    "nobs = property_one['year'].value_counts().values\n",
    "nobs = [str(x) for x in nobs.tolist()]\n",
    "nobs = [\"n: \" + i for i in nobs]\n",
    " \n",
    "# Add it to the plot\n",
    "pos = range(len(nobs))\n",
    "for tick,label in zip(pos,ax.get_xticklabels()):\n",
    "    ax.text(pos[tick],\n",
    "            medians[tick] + 0.03,\n",
    "            nobs[tick],\n",
    "            horizontalalignment='center',\n",
    "            size='x-small',\n",
    "            color='w',\n",
    "            weight='semibold')\n",
    "plt.savefig(\"Resources_Laura/One Bedroom Property Value.png\")\n",
    "plt.show()"
   ]
  },
  {
   "cell_type": "code",
   "execution_count": 15,
   "metadata": {},
   "outputs": [
    {
     "data": {
      "text/plain": [
       "3571697.0"
      ]
     },
     "execution_count": 15,
     "metadata": {},
     "output_type": "execute_result"
    }
   ],
   "source": [
    "max(property_one['value'])"
   ]
  },
  {
   "cell_type": "markdown",
   "metadata": {},
   "source": [
    "### Ridgeline plot"
   ]
  },
  {
   "cell_type": "code",
   "execution_count": 16,
   "metadata": {},
   "outputs": [],
   "source": [
    "from joypy import joyplot"
   ]
  },
  {
   "cell_type": "code",
   "execution_count": 17,
   "metadata": {},
   "outputs": [],
   "source": [
    "# property_one = property_one.loc[property_one['value']<=150000]"
   ]
  },
  {
   "cell_type": "code",
   "execution_count": 18,
   "metadata": {},
   "outputs": [
    {
     "data": {
      "text/plain": [
       "<Figure size 432x288 with 0 Axes>"
      ]
     },
     "metadata": {},
     "output_type": "display_data"
    },
    {
     "data": {
      "image/png": "[encoded data removed]",
      "text/plain": [
       "<Figure size 576x432 with 9 Axes>"
      ]
     },
     "metadata": {
      "needs_background": "light"
     },
     "output_type": "display_data"
    }
   ],
   "source": [
    "plt.figure()\n",
    "\n",
    "joyplot(\n",
    "    data=property_one[['year', 'value']], \n",
    "    by='year',\n",
    "    figsize=(8, 6)\n",
    ")\n",
    "plt.title('One Bedroom Value by Year', fontsize=14)\n",
    "plt.savefig(\"Resources_Laura/One Bedroom Property Value Distribution.png\")\n",
    "plt.show()"
   ]
  },
  {
   "cell_type": "code",
   "execution_count": 19,
   "metadata": {},
   "outputs": [
    {
     "data": {
      "text/plain": [
       "100404"
      ]
     },
     "execution_count": 19,
     "metadata": {},
     "output_type": "execute_result"
    }
   ],
   "source": [
    "len(property_one)"
   ]
  },
  {
   "cell_type": "markdown",
   "metadata": {},
   "source": [
    "### Plotting instead % change of value since 1/31/14"
   ]
  },
  {
   "cell_type": "code",
   "execution_count": 20,
   "metadata": {},
   "outputs": [
    {
     "data": {
      "text/html": [
       "<div>\n",
       "<style scoped>\n",
       "    .dataframe tbody tr th:only-of-type {\n",
       "        vertical-align: middle;\n",
       "    }\n",
       "\n",
       "    .dataframe tbody tr th {\n",
       "        vertical-align: top;\n",
       "    }\n",
       "\n",
       "    .dataframe thead th {\n",
       "        text-align: right;\n",
       "    }\n",
       "</style>\n",
       "<table border=\"1\" class=\"dataframe\">\n",
       "  <thead>\n",
       "    <tr style=\"text-align: right;\">\n",
       "      <th></th>\n",
       "      <th>RegionName</th>\n",
       "      <th>RegionType</th>\n",
       "      <th>StateName</th>\n",
       "      <th>State</th>\n",
       "      <th>City</th>\n",
       "      <th>Metro</th>\n",
       "      <th>CountyName</th>\n",
       "      <th>1/31/14</th>\n",
       "      <th>2/28/21</th>\n",
       "      <th>3/31/21</th>\n",
       "      <th>Bdrm</th>\n",
       "      <th>% Change</th>\n",
       "      <th>Lat</th>\n",
       "      <th>Lng</th>\n",
       "    </tr>\n",
       "  </thead>\n",
       "  <tbody>\n",
       "    <tr>\n",
       "      <th>0</th>\n",
       "      <td>95412</td>\n",
       "      <td>Zip</td>\n",
       "      <td>CA</td>\n",
       "      <td>CA</td>\n",
       "      <td>Annapolis</td>\n",
       "      <td>Santa Rosa</td>\n",
       "      <td>Sonoma County</td>\n",
       "      <td>721046.0</td>\n",
       "      <td>526204</td>\n",
       "      <td>520369</td>\n",
       "      <td>1</td>\n",
       "      <td>-27.831373</td>\n",
       "      <td>38.713892</td>\n",
       "      <td>-123.326167</td>\n",
       "    </tr>\n",
       "    <tr>\n",
       "      <th>1</th>\n",
       "      <td>95412</td>\n",
       "      <td>Zip</td>\n",
       "      <td>CA</td>\n",
       "      <td>CA</td>\n",
       "      <td>Annapolis</td>\n",
       "      <td>Santa Rosa</td>\n",
       "      <td>Sonoma County</td>\n",
       "      <td>730825.0</td>\n",
       "      <td>653418</td>\n",
       "      <td>645435</td>\n",
       "      <td>2</td>\n",
       "      <td>-11.684056</td>\n",
       "      <td>38.713892</td>\n",
       "      <td>-123.326167</td>\n",
       "    </tr>\n",
       "    <tr>\n",
       "      <th>2</th>\n",
       "      <td>95412</td>\n",
       "      <td>Zip</td>\n",
       "      <td>CA</td>\n",
       "      <td>CA</td>\n",
       "      <td>Annapolis</td>\n",
       "      <td>Santa Rosa</td>\n",
       "      <td>Sonoma County</td>\n",
       "      <td>772083.0</td>\n",
       "      <td>935029</td>\n",
       "      <td>951287</td>\n",
       "      <td>3</td>\n",
       "      <td>23.210458</td>\n",
       "      <td>38.713892</td>\n",
       "      <td>-123.326167</td>\n",
       "    </tr>\n",
       "    <tr>\n",
       "      <th>3</th>\n",
       "      <td>95017</td>\n",
       "      <td>Zip</td>\n",
       "      <td>CA</td>\n",
       "      <td>CA</td>\n",
       "      <td>Davenport</td>\n",
       "      <td>Santa Cruz-Watsonville</td>\n",
       "      <td>Santa Cruz County</td>\n",
       "      <td>789701.0</td>\n",
       "      <td>609039</td>\n",
       "      <td>612187</td>\n",
       "      <td>1</td>\n",
       "      <td>-22.478634</td>\n",
       "      <td>37.091858</td>\n",
       "      <td>-122.231354</td>\n",
       "    </tr>\n",
       "    <tr>\n",
       "      <th>4</th>\n",
       "      <td>95017</td>\n",
       "      <td>Zip</td>\n",
       "      <td>CA</td>\n",
       "      <td>CA</td>\n",
       "      <td>Davenport</td>\n",
       "      <td>Santa Cruz-Watsonville</td>\n",
       "      <td>Santa Cruz County</td>\n",
       "      <td>669451.0</td>\n",
       "      <td>826864</td>\n",
       "      <td>847012</td>\n",
       "      <td>2</td>\n",
       "      <td>26.523375</td>\n",
       "      <td>37.091858</td>\n",
       "      <td>-122.231354</td>\n",
       "    </tr>\n",
       "  </tbody>\n",
       "</table>\n",
       "</div>"
      ],
      "text/plain": [
       "   RegionName RegionType StateName State       City                   Metro  \\\n",
       "0       95412        Zip        CA    CA  Annapolis              Santa Rosa   \n",
       "1       95412        Zip        CA    CA  Annapolis              Santa Rosa   \n",
       "2       95412        Zip        CA    CA  Annapolis              Santa Rosa   \n",
       "3       95017        Zip        CA    CA  Davenport  Santa Cruz-Watsonville   \n",
       "4       95017        Zip        CA    CA  Davenport  Santa Cruz-Watsonville   \n",
       "\n",
       "          CountyName   1/31/14  2/28/21  3/31/21  Bdrm   % Change        Lat  \\\n",
       "0      Sonoma County  721046.0   526204   520369     1 -27.831373  38.713892   \n",
       "1      Sonoma County  730825.0   653418   645435     2 -11.684056  38.713892   \n",
       "2      Sonoma County  772083.0   935029   951287     3  23.210458  38.713892   \n",
       "3  Santa Cruz County  789701.0   609039   612187     1 -22.478634  37.091858   \n",
       "4  Santa Cruz County  669451.0   826864   847012     2  26.523375  37.091858   \n",
       "\n",
       "          Lng  \n",
       "0 -123.326167  \n",
       "1 -123.326167  \n",
       "2 -123.326167  \n",
       "3 -122.231354  \n",
       "4 -122.231354  "
      ]
     },
     "execution_count": 20,
     "metadata": {},
     "output_type": "execute_result"
    }
   ],
   "source": [
    "property_dataset = pd.read_csv('Resources_Laura/clean_property_value.csv')\n",
    "property_dataset.head()"
   ]
  },
  {
   "cell_type": "code",
   "execution_count": 21,
   "metadata": {},
   "outputs": [
    {
     "data": {
      "image/png": "[encoded data removed]",
      "text/plain": [
       "<Figure size 576x432 with 1 Axes>"
      ]
     },
     "metadata": {
      "needs_background": "light"
     },
     "output_type": "display_data"
    }
   ],
   "source": [
    "#plotting box and whisker\n",
    "fig, ax = plt.subplots()\n",
    "fig.set_size_inches((8,6))\n",
    "sns.boxplot(x='Bdrm',y='% Change',data=property_dataset,ax=ax)\n",
    "ax.set_title('Property Value Change per Bedroom')\n",
    "\n",
    "medians = property_dataset.groupby(['Bedrooms'])['% Change'].median().values\n",
    "nobs = property_one['Bdrm'].value_counts().values\n",
    "nobs = [str(x) for x in nobs.tolist()]\n",
    "nobs = [\"n: \" + i for i in nobs]\n",
    " \n",
    "# Add it to the plot\n",
    "pos = range(len(nobs))\n",
    "for tick,label in zip(pos,ax.get_xticklabels()):\n",
    "    ax.text(pos[tick],\n",
    "            medians[tick] + 0.03,\n",
    "            nobs[tick],\n",
    "            horizontalalignment='center',\n",
    "            size='x-small',\n",
    "            color='w',\n",
    "            weight='semibold')\n",
    "plt.savefig(\"Resources_Laura/Property Value Change per Bedroom.png\")\n",
    "plt.show()"
   ]
  },
  {
   "cell_type": "code",
   "execution_count": 22,
   "metadata": {},
   "outputs": [
    {
     "data": {
      "text/plain": [
       "<Figure size 432x288 with 0 Axes>"
      ]
     },
     "metadata": {},
     "output_type": "display_data"
    },
    {
     "data": {
      "image/png": "[encoded data removed]",
      "text/plain": [
       "<Figure size 576x432 with 4 Axes>"
      ]
     },
     "metadata": {
      "needs_background": "light"
     },
     "output_type": "display_data"
    }
   ],
   "source": [
    "plt.figure()\n",
    "\n",
    "joyplot(\n",
    "    data=property_dataset[['Bdrm', '% Change']], \n",
    "    by='Bdrm',\n",
    "    figsize=(8, 6)\n",
    ")\n",
    "plt.title('Property Value % Change by # of Bedrooms', fontsize=14)\n",
    "plt.savefig(\"Resources_Laura/Property Value % Change by # of Bedrooms.png\")\n",
    "plt.show()"
   ]
  },
  {
   "cell_type": "code",
   "execution_count": null,
   "metadata": {},
   "outputs": [],
   "source": []
  }
 ],
 "metadata": {
  "kernelspec": {
   "display_name": "Python 3",
   "language": "python",
   "name": "python3"
  },
  "language_info": {
   "codemirror_mode": {
    "name": "ipython",
    "version": 3
   },
   "file_extension": ".py",
   "mimetype": "text/x-python",
   "name": "python",
   "nbconvert_exporter": "python",
   "pygments_lexer": "ipython3",
   "version": "3.8.5"
  }
 },
 "nbformat": 4,
 "nbformat_minor": 4
}
