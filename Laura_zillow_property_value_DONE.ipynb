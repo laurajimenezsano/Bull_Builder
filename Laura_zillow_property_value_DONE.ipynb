{
 "cells": [
  {
   "cell_type": "code",
   "execution_count": 1,
   "metadata": {},
   "outputs": [],
   "source": [
    "# importing all dependencies (just in case)\n",
    "\n",
    "import gmaps\n",
    "import numpy as np\n",
    "import pandas as pd\n",
    "import requests\n",
    "import time\n",
    "from datetime import datetime\n",
    "from scipy.stats import linregress\n",
    "from matplotlib import pyplot as plt\n",
    "from config_Laura import (gkey2)"
   ]
  },
  {
   "cell_type": "code",
   "execution_count": 2,
   "metadata": {},
   "outputs": [],
   "source": [
    "# Zillow has their datasets divided by how many bedrooms there are: importing all datasets, to then merge them and clean them\n",
    "zillow_value_1 = pd.read_csv('Resources_Laura/zillow_value_1.csv')\n",
    "zillow_value_2 = pd.read_csv('Resources_Laura/zillow_value_2.csv')\n",
    "zillow_value_3 = pd.read_csv('Resources_Laura/zillow_value_3.csv')"
   ]
  },
  {
   "cell_type": "code",
   "execution_count": 3,
   "metadata": {},
   "outputs": [
    {
     "data": {
      "text/plain": [
       "74047"
      ]
     },
     "execution_count": 3,
     "metadata": {},
     "output_type": "execute_result"
    }
   ],
   "source": [
    "# adding a column to show how many bedrooms, based on the dataset, so that it is clear once it is merged.\n",
    "zillow_value_1['Bdrm'] = \"1\"\n",
    "zillow_value_2['Bdrm'] = \"2\"\n",
    "zillow_value_3['Bdrm'] = \"3\"\n",
    "len(zillow_value_1)+len(zillow_value_2)+len(zillow_value_3)"
   ]
  },
  {
   "cell_type": "code",
   "execution_count": 4,
   "metadata": {},
   "outputs": [
    {
     "data": {
      "text/plain": [
       "74047"
      ]
     },
     "execution_count": 4,
     "metadata": {},
     "output_type": "execute_result"
    }
   ],
   "source": [
    "# merging all datasets together to work out of one clean document\n",
    "properties = pd.concat([zillow_value_1,zillow_value_2,zillow_value_3])\n",
    "len(properties)"
   ]
  },
  {
   "cell_type": "code",
   "execution_count": 5,
   "metadata": {},
   "outputs": [
    {
     "data": {
      "text/plain": [
       "4544"
      ]
     },
     "execution_count": 5,
     "metadata": {},
     "output_type": "execute_result"
    }
   ],
   "source": [
    "# filter for california properties only:\n",
    "properties_ca = properties.loc[properties['State']==\"CA\"]\n",
    "len(properties_ca)"
   ]
  },
  {
   "cell_type": "code",
   "execution_count": 6,
   "metadata": {
    "scrolled": true
   },
   "outputs": [
    {
     "data": {
      "text/html": [
       "<div>\n",
       "<style scoped>\n",
       "    .dataframe tbody tr th:only-of-type {\n",
       "        vertical-align: middle;\n",
       "    }\n",
       "\n",
       "    .dataframe tbody tr th {\n",
       "        vertical-align: top;\n",
       "    }\n",
       "\n",
       "    .dataframe thead th {\n",
       "        text-align: right;\n",
       "    }\n",
       "</style>\n",
       "<table border=\"1\" class=\"dataframe\">\n",
       "  <thead>\n",
       "    <tr style=\"text-align: right;\">\n",
       "      <th></th>\n",
       "      <th>RegionName</th>\n",
       "      <th>RegionType</th>\n",
       "      <th>StateName</th>\n",
       "      <th>State</th>\n",
       "      <th>City</th>\n",
       "      <th>Metro</th>\n",
       "      <th>CountyName</th>\n",
       "      <th>1/31/14</th>\n",
       "      <th>2/28/21</th>\n",
       "      <th>3/31/21</th>\n",
       "      <th>Bdrm</th>\n",
       "    </tr>\n",
       "  </thead>\n",
       "  <tbody>\n",
       "    <tr>\n",
       "      <th>12</th>\n",
       "      <td>94109</td>\n",
       "      <td>Zip</td>\n",
       "      <td>CA</td>\n",
       "      <td>CA</td>\n",
       "      <td>San Francisco</td>\n",
       "      <td>San Francisco-Oakland-Hayward</td>\n",
       "      <td>San Francisco County</td>\n",
       "      <td>716780.0</td>\n",
       "      <td>824861</td>\n",
       "      <td>820867</td>\n",
       "      <td>1</td>\n",
       "    </tr>\n",
       "    <tr>\n",
       "      <th>19</th>\n",
       "      <td>90250</td>\n",
       "      <td>Zip</td>\n",
       "      <td>CA</td>\n",
       "      <td>CA</td>\n",
       "      <td>Hawthorne</td>\n",
       "      <td>Los Angeles-Long Beach-Anaheim</td>\n",
       "      <td>Los Angeles County</td>\n",
       "      <td>382463.0</td>\n",
       "      <td>608374</td>\n",
       "      <td>614481</td>\n",
       "      <td>1</td>\n",
       "    </tr>\n",
       "    <tr>\n",
       "      <th>37</th>\n",
       "      <td>94565</td>\n",
       "      <td>Zip</td>\n",
       "      <td>CA</td>\n",
       "      <td>CA</td>\n",
       "      <td>Pittsburg</td>\n",
       "      <td>San Francisco-Oakland-Hayward</td>\n",
       "      <td>Contra Costa County</td>\n",
       "      <td>NaN</td>\n",
       "      <td>192942</td>\n",
       "      <td>189534</td>\n",
       "      <td>1</td>\n",
       "    </tr>\n",
       "    <tr>\n",
       "      <th>41</th>\n",
       "      <td>90046</td>\n",
       "      <td>Zip</td>\n",
       "      <td>CA</td>\n",
       "      <td>CA</td>\n",
       "      <td>Los Angeles</td>\n",
       "      <td>Los Angeles-Long Beach-Anaheim</td>\n",
       "      <td>Los Angeles County</td>\n",
       "      <td>452491.0</td>\n",
       "      <td>647755</td>\n",
       "      <td>650469</td>\n",
       "      <td>1</td>\n",
       "    </tr>\n",
       "    <tr>\n",
       "      <th>83</th>\n",
       "      <td>94501</td>\n",
       "      <td>Zip</td>\n",
       "      <td>CA</td>\n",
       "      <td>CA</td>\n",
       "      <td>Alameda</td>\n",
       "      <td>San Francisco-Oakland-Hayward</td>\n",
       "      <td>Alameda County</td>\n",
       "      <td>348254.0</td>\n",
       "      <td>562250</td>\n",
       "      <td>566397</td>\n",
       "      <td>1</td>\n",
       "    </tr>\n",
       "  </tbody>\n",
       "</table>\n",
       "</div>"
      ],
      "text/plain": [
       "    RegionName RegionType StateName State           City  \\\n",
       "12       94109        Zip        CA    CA  San Francisco   \n",
       "19       90250        Zip        CA    CA      Hawthorne   \n",
       "37       94565        Zip        CA    CA      Pittsburg   \n",
       "41       90046        Zip        CA    CA    Los Angeles   \n",
       "83       94501        Zip        CA    CA        Alameda   \n",
       "\n",
       "                             Metro            CountyName   1/31/14  2/28/21  \\\n",
       "12   San Francisco-Oakland-Hayward  San Francisco County  716780.0   824861   \n",
       "19  Los Angeles-Long Beach-Anaheim    Los Angeles County  382463.0   608374   \n",
       "37   San Francisco-Oakland-Hayward   Contra Costa County       NaN   192942   \n",
       "41  Los Angeles-Long Beach-Anaheim    Los Angeles County  452491.0   647755   \n",
       "83   San Francisco-Oakland-Hayward        Alameda County  348254.0   562250   \n",
       "\n",
       "    3/31/21 Bdrm  \n",
       "12   820867    1  \n",
       "19   614481    1  \n",
       "37   189534    1  \n",
       "41   650469    1  \n",
       "83   566397    1  "
      ]
     },
     "execution_count": 6,
     "metadata": {},
     "output_type": "execute_result"
    }
   ],
   "source": [
    "# remove columns that have values prior to date 12/31/2013 - we are analyzing the CAGR post 2014.\n",
    "properties_ca = properties_ca[['RegionName','RegionType','StateName','State','City','Metro','CountyName','1/31/14','2/28/21','3/31/21','Bdrm']]\n",
    "properties_ca.head()"
   ]
  },
  {
   "cell_type": "code",
   "execution_count": 7,
   "metadata": {},
   "outputs": [
    {
     "data": {
      "text/plain": [
       "3923"
      ]
     },
     "execution_count": 7,
     "metadata": {},
     "output_type": "execute_result"
    }
   ],
   "source": [
    "# dropping nas\n",
    "properties_ca = properties_ca.dropna()\n",
    "len(properties_ca)"
   ]
  },
  {
   "cell_type": "code",
   "execution_count": 8,
   "metadata": {
    "scrolled": true
   },
   "outputs": [],
   "source": [
    "# calculate annual growth rate since 2014\n",
    "properties_ca['% Change'] = ((properties_ca['3/31/21'] - properties_ca['1/31/14'])/properties_ca['1/31/14']*100)\n",
    "properties_ca = pd.DataFrame(properties_ca)\n",
    "properties_ca = properties_ca.sort_values(by='% Change', ascending=True)\n",
    "properties_ca = properties_ca.dropna()"
   ]
  },
  {
   "cell_type": "code",
   "execution_count": 9,
   "metadata": {},
   "outputs": [
    {
     "data": {
      "text/plain": [
       "1485"
      ]
     },
     "execution_count": 9,
     "metadata": {},
     "output_type": "execute_result"
    }
   ],
   "source": [
    "#create the list of unique zip codes for the API request (to avoid duplicates)\n",
    "properties_zip = pd.DataFrame({'RegionName':properties_ca['RegionName'],'County':properties_ca['CountyName']})\n",
    "properties_zip = properties_zip.drop_duplicates()\n",
    "len(properties_zip)"
   ]
  },
  {
   "cell_type": "code",
   "execution_count": 10,
   "metadata": {},
   "outputs": [],
   "source": [
    "# creating lat and long columns for final run\n",
    "properties_zip['Lat'] = \"\"\n",
    "properties_zip['Lng'] = \"\""
   ]
  },
  {
   "cell_type": "code",
   "execution_count": 11,
   "metadata": {},
   "outputs": [],
   "source": [
    "# create a params dict that will be updated with new city each iteration\n",
    "params = {\"key\": gkey2}\n",
    "\n",
    "# Loop through the cities_pd and run a lat/long search for each city\n",
    "for index, row in properties_zip.iterrows():\n",
    "    base_url = \"https://maps.googleapis.com/maps/api/geocode/json\"\n",
    "\n",
    "    zipcode = row['RegionName']\n",
    "\n",
    "    # update address key value\n",
    "    params['address'] = (zipcode)\n",
    "\n",
    "    # make request\n",
    "    cities_lat_lng = requests.get(base_url, params=params)\n",
    "    \n",
    "    # print the cities_lat_lng url, avoid doing for public github repos in order to avoid exposing key\n",
    "    # print(cities_lat_lng.url)\n",
    "    \n",
    "    # convert to json\n",
    "    cities_lat_lng = cities_lat_lng.json()\n",
    "\n",
    "    properties_zip.loc[index, \"Lat\"] = cities_lat_lng[\"results\"][0][\"geometry\"][\"location\"][\"lat\"]\n",
    "    properties_zip.loc[index, \"Lng\"] = cities_lat_lng[\"results\"][0][\"geometry\"][\"location\"][\"lng\"]"
   ]
  },
  {
   "cell_type": "code",
   "execution_count": 15,
   "metadata": {},
   "outputs": [
    {
     "data": {
      "text/html": [
       "<div>\n",
       "<style scoped>\n",
       "    .dataframe tbody tr th:only-of-type {\n",
       "        vertical-align: middle;\n",
       "    }\n",
       "\n",
       "    .dataframe tbody tr th {\n",
       "        vertical-align: top;\n",
       "    }\n",
       "\n",
       "    .dataframe thead th {\n",
       "        text-align: right;\n",
       "    }\n",
       "</style>\n",
       "<table border=\"1\" class=\"dataframe\">\n",
       "  <thead>\n",
       "    <tr style=\"text-align: right;\">\n",
       "      <th></th>\n",
       "      <th>ZipCode</th>\n",
       "      <th>County</th>\n",
       "      <th>Lat</th>\n",
       "      <th>Lng</th>\n",
       "    </tr>\n",
       "  </thead>\n",
       "  <tbody>\n",
       "    <tr>\n",
       "      <th>18298</th>\n",
       "      <td>95412</td>\n",
       "      <td>Sonoma County</td>\n",
       "      <td>38.7139</td>\n",
       "      <td>-123.326</td>\n",
       "    </tr>\n",
       "    <tr>\n",
       "      <th>16475</th>\n",
       "      <td>95017</td>\n",
       "      <td>Santa Cruz County</td>\n",
       "      <td>37.0919</td>\n",
       "      <td>-122.231</td>\n",
       "    </tr>\n",
       "    <tr>\n",
       "      <th>18436</th>\n",
       "      <td>94020</td>\n",
       "      <td>San Mateo County</td>\n",
       "      <td>37.2911</td>\n",
       "      <td>-122.209</td>\n",
       "    </tr>\n",
       "    <tr>\n",
       "      <th>20053</th>\n",
       "      <td>94060</td>\n",
       "      <td>San Mateo County</td>\n",
       "      <td>37.2051</td>\n",
       "      <td>-122.333</td>\n",
       "    </tr>\n",
       "    <tr>\n",
       "      <th>6759</th>\n",
       "      <td>93110</td>\n",
       "      <td>Santa Barbara County</td>\n",
       "      <td>34.5084</td>\n",
       "      <td>-119.731</td>\n",
       "    </tr>\n",
       "  </tbody>\n",
       "</table>\n",
       "</div>"
      ],
      "text/plain": [
       "       ZipCode                County      Lat      Lng\n",
       "18298    95412         Sonoma County  38.7139 -123.326\n",
       "16475    95017     Santa Cruz County  37.0919 -122.231\n",
       "18436    94020      San Mateo County  37.2911 -122.209\n",
       "20053    94060      San Mateo County  37.2051 -122.333\n",
       "6759     93110  Santa Barbara County  34.5084 -119.731"
      ]
     },
     "execution_count": 15,
     "metadata": {},
     "output_type": "execute_result"
    }
   ],
   "source": [
    "properties_zip.head()"
   ]
  },
  {
   "cell_type": "code",
   "execution_count": 13,
   "metadata": {
    "scrolled": true
   },
   "outputs": [
    {
     "data": {
      "text/html": [
       "<div>\n",
       "<style scoped>\n",
       "    .dataframe tbody tr th:only-of-type {\n",
       "        vertical-align: middle;\n",
       "    }\n",
       "\n",
       "    .dataframe tbody tr th {\n",
       "        vertical-align: top;\n",
       "    }\n",
       "\n",
       "    .dataframe thead th {\n",
       "        text-align: right;\n",
       "    }\n",
       "</style>\n",
       "<table border=\"1\" class=\"dataframe\">\n",
       "  <thead>\n",
       "    <tr style=\"text-align: right;\">\n",
       "      <th></th>\n",
       "      <th>RegionName</th>\n",
       "      <th>RegionType</th>\n",
       "      <th>StateName</th>\n",
       "      <th>State</th>\n",
       "      <th>City</th>\n",
       "      <th>Metro</th>\n",
       "      <th>CountyName</th>\n",
       "      <th>1/31/14</th>\n",
       "      <th>2/28/21</th>\n",
       "      <th>3/31/21</th>\n",
       "      <th>Bdrm</th>\n",
       "      <th>% Change</th>\n",
       "      <th>Lat</th>\n",
       "      <th>Lng</th>\n",
       "    </tr>\n",
       "  </thead>\n",
       "  <tbody>\n",
       "    <tr>\n",
       "      <th>0</th>\n",
       "      <td>95412</td>\n",
       "      <td>Zip</td>\n",
       "      <td>CA</td>\n",
       "      <td>CA</td>\n",
       "      <td>Annapolis</td>\n",
       "      <td>Santa Rosa</td>\n",
       "      <td>Sonoma County</td>\n",
       "      <td>721046.0</td>\n",
       "      <td>526204</td>\n",
       "      <td>520369</td>\n",
       "      <td>1</td>\n",
       "      <td>-27.831373</td>\n",
       "      <td>38.7139</td>\n",
       "      <td>-123.326</td>\n",
       "    </tr>\n",
       "    <tr>\n",
       "      <th>1</th>\n",
       "      <td>95412</td>\n",
       "      <td>Zip</td>\n",
       "      <td>CA</td>\n",
       "      <td>CA</td>\n",
       "      <td>Annapolis</td>\n",
       "      <td>Santa Rosa</td>\n",
       "      <td>Sonoma County</td>\n",
       "      <td>730825.0</td>\n",
       "      <td>653418</td>\n",
       "      <td>645435</td>\n",
       "      <td>2</td>\n",
       "      <td>-11.684056</td>\n",
       "      <td>38.7139</td>\n",
       "      <td>-123.326</td>\n",
       "    </tr>\n",
       "    <tr>\n",
       "      <th>2</th>\n",
       "      <td>95412</td>\n",
       "      <td>Zip</td>\n",
       "      <td>CA</td>\n",
       "      <td>CA</td>\n",
       "      <td>Annapolis</td>\n",
       "      <td>Santa Rosa</td>\n",
       "      <td>Sonoma County</td>\n",
       "      <td>772083.0</td>\n",
       "      <td>935029</td>\n",
       "      <td>951287</td>\n",
       "      <td>3</td>\n",
       "      <td>23.210458</td>\n",
       "      <td>38.7139</td>\n",
       "      <td>-123.326</td>\n",
       "    </tr>\n",
       "    <tr>\n",
       "      <th>3</th>\n",
       "      <td>95017</td>\n",
       "      <td>Zip</td>\n",
       "      <td>CA</td>\n",
       "      <td>CA</td>\n",
       "      <td>Davenport</td>\n",
       "      <td>Santa Cruz-Watsonville</td>\n",
       "      <td>Santa Cruz County</td>\n",
       "      <td>789701.0</td>\n",
       "      <td>609039</td>\n",
       "      <td>612187</td>\n",
       "      <td>1</td>\n",
       "      <td>-22.478634</td>\n",
       "      <td>37.0919</td>\n",
       "      <td>-122.231</td>\n",
       "    </tr>\n",
       "    <tr>\n",
       "      <th>4</th>\n",
       "      <td>95017</td>\n",
       "      <td>Zip</td>\n",
       "      <td>CA</td>\n",
       "      <td>CA</td>\n",
       "      <td>Davenport</td>\n",
       "      <td>Santa Cruz-Watsonville</td>\n",
       "      <td>Santa Cruz County</td>\n",
       "      <td>669451.0</td>\n",
       "      <td>826864</td>\n",
       "      <td>847012</td>\n",
       "      <td>2</td>\n",
       "      <td>26.523375</td>\n",
       "      <td>37.0919</td>\n",
       "      <td>-122.231</td>\n",
       "    </tr>\n",
       "  </tbody>\n",
       "</table>\n",
       "</div>"
      ],
      "text/plain": [
       "   RegionName RegionType StateName State       City                   Metro  \\\n",
       "0       95412        Zip        CA    CA  Annapolis              Santa Rosa   \n",
       "1       95412        Zip        CA    CA  Annapolis              Santa Rosa   \n",
       "2       95412        Zip        CA    CA  Annapolis              Santa Rosa   \n",
       "3       95017        Zip        CA    CA  Davenport  Santa Cruz-Watsonville   \n",
       "4       95017        Zip        CA    CA  Davenport  Santa Cruz-Watsonville   \n",
       "\n",
       "          CountyName   1/31/14  2/28/21  3/31/21 Bdrm   % Change      Lat  \\\n",
       "0      Sonoma County  721046.0   526204   520369    1 -27.831373  38.7139   \n",
       "1      Sonoma County  730825.0   653418   645435    2 -11.684056  38.7139   \n",
       "2      Sonoma County  772083.0   935029   951287    3  23.210458  38.7139   \n",
       "3  Santa Cruz County  789701.0   609039   612187    1 -22.478634  37.0919   \n",
       "4  Santa Cruz County  669451.0   826864   847012    2  26.523375  37.0919   \n",
       "\n",
       "       Lng  \n",
       "0 -123.326  \n",
       "1 -123.326  \n",
       "2 -123.326  \n",
       "3 -122.231  \n",
       "4 -122.231  "
      ]
     },
     "execution_count": 13,
     "metadata": {},
     "output_type": "execute_result"
    }
   ],
   "source": [
    "result = pd.merge(properties_ca, properties_zip, on=\"RegionName\")\n",
    "result = result.drop(columns=['County'])\n",
    "result.head()"
   ]
  },
  {
   "cell_type": "code",
   "execution_count": 17,
   "metadata": {},
   "outputs": [
    {
     "data": {
      "text/html": [
       "<div>\n",
       "<style scoped>\n",
       "    .dataframe tbody tr th:only-of-type {\n",
       "        vertical-align: middle;\n",
       "    }\n",
       "\n",
       "    .dataframe tbody tr th {\n",
       "        vertical-align: top;\n",
       "    }\n",
       "\n",
       "    .dataframe thead th {\n",
       "        text-align: right;\n",
       "    }\n",
       "</style>\n",
       "<table border=\"1\" class=\"dataframe\">\n",
       "  <thead>\n",
       "    <tr style=\"text-align: right;\">\n",
       "      <th></th>\n",
       "      <th>ZipCode</th>\n",
       "      <th>County</th>\n",
       "      <th>Lat</th>\n",
       "      <th>Lng</th>\n",
       "    </tr>\n",
       "  </thead>\n",
       "  <tbody>\n",
       "    <tr>\n",
       "      <th>18298</th>\n",
       "      <td>95412</td>\n",
       "      <td>Sonoma County</td>\n",
       "      <td>38.7139</td>\n",
       "      <td>-123.326</td>\n",
       "    </tr>\n",
       "    <tr>\n",
       "      <th>16475</th>\n",
       "      <td>95017</td>\n",
       "      <td>Santa Cruz County</td>\n",
       "      <td>37.0919</td>\n",
       "      <td>-122.231</td>\n",
       "    </tr>\n",
       "    <tr>\n",
       "      <th>18436</th>\n",
       "      <td>94020</td>\n",
       "      <td>San Mateo County</td>\n",
       "      <td>37.2911</td>\n",
       "      <td>-122.209</td>\n",
       "    </tr>\n",
       "    <tr>\n",
       "      <th>20053</th>\n",
       "      <td>94060</td>\n",
       "      <td>San Mateo County</td>\n",
       "      <td>37.2051</td>\n",
       "      <td>-122.333</td>\n",
       "    </tr>\n",
       "    <tr>\n",
       "      <th>6759</th>\n",
       "      <td>93110</td>\n",
       "      <td>Santa Barbara County</td>\n",
       "      <td>34.5084</td>\n",
       "      <td>-119.731</td>\n",
       "    </tr>\n",
       "  </tbody>\n",
       "</table>\n",
       "</div>"
      ],
      "text/plain": [
       "       ZipCode                County      Lat      Lng\n",
       "18298    95412         Sonoma County  38.7139 -123.326\n",
       "16475    95017     Santa Cruz County  37.0919 -122.231\n",
       "18436    94020      San Mateo County  37.2911 -122.209\n",
       "20053    94060      San Mateo County  37.2051 -122.333\n",
       "6759     93110  Santa Barbara County  34.5084 -119.731"
      ]
     },
     "execution_count": 17,
     "metadata": {},
     "output_type": "execute_result"
    }
   ],
   "source": [
    "#rename region name to zip code (within the zipcode coordinates dataset), so that it is more clear to the rest of the contributors\n",
    "properties_zip = properties_zip.rename(columns={'RegionName': 'ZipCode'})\n",
    "properties_zip.head()"
   ]
  },
  {
   "cell_type": "code",
   "execution_count": 18,
   "metadata": {},
   "outputs": [],
   "source": [
    "#save files to resources folder\n",
    "result.to_csv(\"Resources_Laura/clean_property_value.csv\", index = False)\n",
    "properties_zip.to_csv(\"Resources_Laura/zipcode_coordinates.csv\", index = False)"
   ]
  }
 ],
 "metadata": {
  "kernelspec": {
   "display_name": "Python 3",
   "language": "python",
   "name": "python3"
  },
  "language_info": {
   "codemirror_mode": {
    "name": "ipython",
    "version": 3
   },
   "file_extension": ".py",
   "mimetype": "text/x-python",
   "name": "python",
   "nbconvert_exporter": "python",
   "pygments_lexer": "ipython3",
   "version": "3.8.5"
  }
 },
 "nbformat": 4,
 "nbformat_minor": 4
}
