{
 "cells": [
  {
   "cell_type": "code",
   "execution_count": 1,
   "metadata": {},
   "outputs": [],
   "source": [
    "# Dependencies\n",
    "\n",
    "import gmaps\n",
    "import numpy as np\n",
    "import pandas as pd\n",
    "import requests\n",
    "import time\n",
    "import json\n",
    "from datetime import datetime\n",
    "from scipy.stats import linregress\n",
    "from matplotlib import pyplot as plt\n",
    "from config import (walk_key)"
   ]
  },
  {
   "cell_type": "code",
   "execution_count": 2,
   "metadata": {
    "scrolled": false
   },
   "outputs": [],
   "source": [
    "zip_codes = pd.read_csv('Resources/zipcode_coordinates.csv')"
   ]
  },
  {
   "cell_type": "code",
   "execution_count": 3,
   "metadata": {},
   "outputs": [
    {
     "name": "stdout",
     "output_type": "stream",
     "text": [
      "https://api.walkscore.com/score?format=json&lat=33.751486&lon=-117.75493&transit=1&bike=1&wsapikey=00163e65ea6b8c6c999d3fd212b40f32\n"
     ]
    }
   ],
   "source": [
    "lat = 33.751486\n",
    "lon = -117.754930\n",
    "\n",
    "url = f\"https://api.walkscore.com/score?format=json&lat={lat}&lon={lon}&transit=1&bike=1&wsapikey={walk_key}\"\n",
    "response = requests.get(url).json()\n",
    "walkscore = response['walkscore']\n",
    "print(url)\n"
   ]
  },
  {
   "cell_type": "code",
   "execution_count": 4,
   "metadata": {},
   "outputs": [
    {
     "data": {
      "text/html": [
       "<div>\n",
       "<style scoped>\n",
       "    .dataframe tbody tr th:only-of-type {\n",
       "        vertical-align: middle;\n",
       "    }\n",
       "\n",
       "    .dataframe tbody tr th {\n",
       "        vertical-align: top;\n",
       "    }\n",
       "\n",
       "    .dataframe thead th {\n",
       "        text-align: right;\n",
       "    }\n",
       "</style>\n",
       "<table border=\"1\" class=\"dataframe\">\n",
       "  <thead>\n",
       "    <tr style=\"text-align: right;\">\n",
       "      <th></th>\n",
       "      <th>ZipCode</th>\n",
       "      <th>Lat</th>\n",
       "      <th>Lng</th>\n",
       "    </tr>\n",
       "  </thead>\n",
       "  <tbody>\n",
       "    <tr>\n",
       "      <th>0</th>\n",
       "      <td>94567</td>\n",
       "      <td>38.684420</td>\n",
       "      <td>-122.469369</td>\n",
       "    </tr>\n",
       "    <tr>\n",
       "      <th>1</th>\n",
       "      <td>95554</td>\n",
       "      <td>40.267691</td>\n",
       "      <td>-123.782328</td>\n",
       "    </tr>\n",
       "    <tr>\n",
       "      <th>2</th>\n",
       "      <td>96061</td>\n",
       "      <td>40.369619</td>\n",
       "      <td>-121.468470</td>\n",
       "    </tr>\n",
       "    <tr>\n",
       "      <th>3</th>\n",
       "      <td>96113</td>\n",
       "      <td>40.146205</td>\n",
       "      <td>-120.117066</td>\n",
       "    </tr>\n",
       "    <tr>\n",
       "      <th>4</th>\n",
       "      <td>95571</td>\n",
       "      <td>40.332271</td>\n",
       "      <td>-123.911152</td>\n",
       "    </tr>\n",
       "  </tbody>\n",
       "</table>\n",
       "</div>"
      ],
      "text/plain": [
       "   ZipCode        Lat         Lng\n",
       "0    94567  38.684420 -122.469369\n",
       "1    95554  40.267691 -123.782328\n",
       "2    96061  40.369619 -121.468470\n",
       "3    96113  40.146205 -120.117066\n",
       "4    95571  40.332271 -123.911152"
      ]
     },
     "execution_count": 4,
     "metadata": {},
     "output_type": "execute_result"
    }
   ],
   "source": [
    "zip_codes.head()"
   ]
  },
  {
   "cell_type": "code",
   "execution_count": 5,
   "metadata": {},
   "outputs": [],
   "source": [
    "zip_codes['walk score'] = \"\"\n",
    "zip_codes['bike score'] = \"\""
   ]
  },
  {
   "cell_type": "code",
   "execution_count": 6,
   "metadata": {},
   "outputs": [],
   "source": [
    "# Loop through the cities_pd and run a lat/long search for each city\n",
    "for index, row in zip_codes.iterrows():\n",
    "    url = f\"https://api.walkscore.com/score?format=json&lat={lat}&lon={lon}&transit=1&bike=1&wsapikey={walk_key}\"\n",
    "    lat = row['Lat']\n",
    "    lon = row['Lng']\n",
    "    response = requests.get(url).json()\n",
    "\n",
    "    try:\n",
    "        zip_codes.loc[index, \"walk score\"] = response['walkscore']\n",
    "        zip_codes.loc[index, \"bike score\"] = response['bike']['score']\n",
    "        \n",
    "    except:\n",
    "        continue"
   ]
  },
  {
   "cell_type": "code",
   "execution_count": 9,
   "metadata": {},
   "outputs": [
    {
     "data": {
      "text/plain": [
       "1481"
      ]
     },
     "execution_count": 9,
     "metadata": {},
     "output_type": "execute_result"
    }
   ],
   "source": [
    "len(zip_codes['walk score'])"
   ]
  },
  {
   "cell_type": "code",
   "execution_count": 8,
   "metadata": {},
   "outputs": [],
   "source": [
    "# Save city data into a csv file\n",
    "zip_codes.to_csv(\"Resources/walkscore_mapping.csv\", index = False)"
   ]
  }
 ],
 "metadata": {
  "kernelspec": {
   "display_name": "Python 3",
   "language": "python",
   "name": "python3"
  },
  "language_info": {
   "codemirror_mode": {
    "name": "ipython",
    "version": 3
   },
   "file_extension": ".py",
   "mimetype": "text/x-python",
   "name": "python",
   "nbconvert_exporter": "python",
   "pygments_lexer": "ipython3",
   "version": "3.8.5"
  }
 },
 "nbformat": 4,
 "nbformat_minor": 4
}
