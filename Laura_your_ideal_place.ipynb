{
 "cells": [
  {
   "cell_type": "code",
   "execution_count": 1,
   "metadata": {},
   "outputs": [],
   "source": [
    "# this code is to identify your ideal place to live based on your preferences"
   ]
  },
  {
   "cell_type": "code",
   "execution_count": 2,
   "metadata": {},
   "outputs": [],
   "source": [
    "# Dependencies\n",
    "\n",
    "import gmaps\n",
    "import numpy as np\n",
    "import pandas as pd\n",
    "import requests\n",
    "import time\n",
    "import scipy.stats as st\n",
    "from datetime import datetime\n",
    "from scipy.stats import linregress\n",
    "from matplotlib import pyplot as plt\n",
    "from config import (gkey)"
   ]
  },
  {
   "cell_type": "code",
   "execution_count": 3,
   "metadata": {},
   "outputs": [],
   "source": [
    "walkscore_map = pd.read_csv('Resources/walkscore_mapping.csv')\n",
    "property_dataset = pd.read_csv('Resources/clean_property_value.csv')"
   ]
  },
  {
   "cell_type": "code",
   "execution_count": 4,
   "metadata": {},
   "outputs": [
    {
     "name": "stdout",
     "output_type": "stream",
     "text": [
      "How many bedrooms would you want?3\n",
      "3\n"
     ]
    }
   ],
   "source": [
    "bedrooms = input('How many bedrooms would you want?')\n",
    "print(bedrooms)"
   ]
  },
  {
   "cell_type": "code",
   "execution_count": 5,
   "metadata": {},
   "outputs": [
    {
     "name": "stdout",
     "output_type": "stream",
     "text": [
      "What is your budget? (type digits only)300000\n"
     ]
    }
   ],
   "source": [
    "budget = input('What is your budget? (type digits only)')"
   ]
  },
  {
   "cell_type": "code",
   "execution_count": 6,
   "metadata": {},
   "outputs": [
    {
     "name": "stdout",
     "output_type": "stream",
     "text": [
      "Are you a walker? (Yes/No)Yes\n"
     ]
    }
   ],
   "source": [
    "walk_score = input('Are you a walker? (Yes/No)')"
   ]
  },
  {
   "cell_type": "code",
   "execution_count": 7,
   "metadata": {
    "scrolled": false
   },
   "outputs": [
    {
     "name": "stdout",
     "output_type": "stream",
     "text": [
      "Are you a biker? (Yes/No)No\n"
     ]
    }
   ],
   "source": [
    "bike_score = input('Are you a biker? (Yes/No)')"
   ]
  },
  {
   "cell_type": "code",
   "execution_count": 8,
   "metadata": {},
   "outputs": [
    {
     "data": {
      "text/html": [
       "<div>\n",
       "<style scoped>\n",
       "    .dataframe tbody tr th:only-of-type {\n",
       "        vertical-align: middle;\n",
       "    }\n",
       "\n",
       "    .dataframe tbody tr th {\n",
       "        vertical-align: top;\n",
       "    }\n",
       "\n",
       "    .dataframe thead th {\n",
       "        text-align: right;\n",
       "    }\n",
       "</style>\n",
       "<table border=\"1\" class=\"dataframe\">\n",
       "  <thead>\n",
       "    <tr style=\"text-align: right;\">\n",
       "      <th></th>\n",
       "      <th>ZipCode</th>\n",
       "      <th>walk score</th>\n",
       "      <th>bike score</th>\n",
       "    </tr>\n",
       "  </thead>\n",
       "  <tbody>\n",
       "    <tr>\n",
       "      <th>0</th>\n",
       "      <td>94567</td>\n",
       "      <td>0</td>\n",
       "      <td>12.0</td>\n",
       "    </tr>\n",
       "    <tr>\n",
       "      <th>1</th>\n",
       "      <td>95554</td>\n",
       "      <td>0</td>\n",
       "      <td>NaN</td>\n",
       "    </tr>\n",
       "    <tr>\n",
       "      <th>2</th>\n",
       "      <td>96061</td>\n",
       "      <td>0</td>\n",
       "      <td>NaN</td>\n",
       "    </tr>\n",
       "    <tr>\n",
       "      <th>3</th>\n",
       "      <td>96113</td>\n",
       "      <td>0</td>\n",
       "      <td>17.0</td>\n",
       "    </tr>\n",
       "    <tr>\n",
       "      <th>4</th>\n",
       "      <td>95571</td>\n",
       "      <td>0</td>\n",
       "      <td>27.0</td>\n",
       "    </tr>\n",
       "  </tbody>\n",
       "</table>\n",
       "</div>"
      ],
      "text/plain": [
       "   ZipCode  walk score  bike score\n",
       "0    94567           0        12.0\n",
       "1    95554           0         NaN\n",
       "2    96061           0         NaN\n",
       "3    96113           0        17.0\n",
       "4    95571           0        27.0"
      ]
     },
     "execution_count": 8,
     "metadata": {},
     "output_type": "execute_result"
    }
   ],
   "source": [
    "## rename region name to zip code\n",
    "property_dataset = property_dataset.rename(columns={'RegionName':'ZipCode'})\n",
    "\n",
    "## only use walkscore with zip code and scores (remove lat and lon)\n",
    "walkscore_map = walkscore_map[['ZipCode','walk score','bike score']]\n",
    "walkscore_map.head()"
   ]
  },
  {
   "cell_type": "code",
   "execution_count": 9,
   "metadata": {},
   "outputs": [
    {
     "data": {
      "text/html": [
       "<div>\n",
       "<style scoped>\n",
       "    .dataframe tbody tr th:only-of-type {\n",
       "        vertical-align: middle;\n",
       "    }\n",
       "\n",
       "    .dataframe tbody tr th {\n",
       "        vertical-align: top;\n",
       "    }\n",
       "\n",
       "    .dataframe thead th {\n",
       "        text-align: right;\n",
       "    }\n",
       "</style>\n",
       "<table border=\"1\" class=\"dataframe\">\n",
       "  <thead>\n",
       "    <tr style=\"text-align: right;\">\n",
       "      <th></th>\n",
       "      <th>ZipCode</th>\n",
       "      <th>RegionType</th>\n",
       "      <th>StateName</th>\n",
       "      <th>State</th>\n",
       "      <th>City</th>\n",
       "      <th>Metro</th>\n",
       "      <th>CountyName</th>\n",
       "      <th>1/31/14</th>\n",
       "      <th>2/28/21</th>\n",
       "      <th>3/31/21</th>\n",
       "      <th>Bdrm</th>\n",
       "      <th>CAGR</th>\n",
       "      <th>Lat</th>\n",
       "      <th>Lng</th>\n",
       "      <th>walk score</th>\n",
       "      <th>bike score</th>\n",
       "    </tr>\n",
       "  </thead>\n",
       "  <tbody>\n",
       "    <tr>\n",
       "      <th>3451</th>\n",
       "      <td>95822</td>\n",
       "      <td>Zip</td>\n",
       "      <td>CA</td>\n",
       "      <td>CA</td>\n",
       "      <td>Sacramento</td>\n",
       "      <td>Sacramento--Roseville--Arden-Arcade</td>\n",
       "      <td>Sacramento County</td>\n",
       "      <td>115210.0</td>\n",
       "      <td>390018</td>\n",
       "      <td>398346</td>\n",
       "      <td>1</td>\n",
       "      <td>245.756445</td>\n",
       "      <td>38.512871</td>\n",
       "      <td>-121.497029</td>\n",
       "      <td>87</td>\n",
       "      <td>64.0</td>\n",
       "    </tr>\n",
       "    <tr>\n",
       "      <th>3090</th>\n",
       "      <td>90211</td>\n",
       "      <td>Zip</td>\n",
       "      <td>CA</td>\n",
       "      <td>CA</td>\n",
       "      <td>Beverly Hills</td>\n",
       "      <td>Los Angeles-Long Beach-Anaheim</td>\n",
       "      <td>Los Angeles County</td>\n",
       "      <td>789562.0</td>\n",
       "      <td>2575394</td>\n",
       "      <td>2551752</td>\n",
       "      <td>3</td>\n",
       "      <td>223.185766</td>\n",
       "      <td>34.066107</td>\n",
       "      <td>-118.384178</td>\n",
       "      <td>56</td>\n",
       "      <td>45.0</td>\n",
       "    </tr>\n",
       "    <tr>\n",
       "      <th>3612</th>\n",
       "      <td>95828</td>\n",
       "      <td>Zip</td>\n",
       "      <td>CA</td>\n",
       "      <td>CA</td>\n",
       "      <td>Florin</td>\n",
       "      <td>Sacramento--Roseville--Arden-Arcade</td>\n",
       "      <td>Sacramento County</td>\n",
       "      <td>94743.0</td>\n",
       "      <td>293825</td>\n",
       "      <td>301028</td>\n",
       "      <td>1</td>\n",
       "      <td>217.731125</td>\n",
       "      <td>38.492988</td>\n",
       "      <td>-121.388467</td>\n",
       "      <td>83</td>\n",
       "      <td>62.0</td>\n",
       "    </tr>\n",
       "    <tr>\n",
       "      <th>3905</th>\n",
       "      <td>90266</td>\n",
       "      <td>Zip</td>\n",
       "      <td>CA</td>\n",
       "      <td>CA</td>\n",
       "      <td>Manhattan Beach</td>\n",
       "      <td>Los Angeles-Long Beach-Anaheim</td>\n",
       "      <td>Los Angeles County</td>\n",
       "      <td>804901.0</td>\n",
       "      <td>2540611</td>\n",
       "      <td>2511376</td>\n",
       "      <td>1</td>\n",
       "      <td>212.010545</td>\n",
       "      <td>33.890837</td>\n",
       "      <td>-118.398784</td>\n",
       "      <td>73</td>\n",
       "      <td>95.0</td>\n",
       "    </tr>\n",
       "    <tr>\n",
       "      <th>3858</th>\n",
       "      <td>95816</td>\n",
       "      <td>Zip</td>\n",
       "      <td>CA</td>\n",
       "      <td>CA</td>\n",
       "      <td>Sacramento</td>\n",
       "      <td>Sacramento--Roseville--Arden-Arcade</td>\n",
       "      <td>Sacramento County</td>\n",
       "      <td>179658.0</td>\n",
       "      <td>547554</td>\n",
       "      <td>551084</td>\n",
       "      <td>1</td>\n",
       "      <td>206.740585</td>\n",
       "      <td>38.580018</td>\n",
       "      <td>-121.462758</td>\n",
       "      <td>19</td>\n",
       "      <td>8.0</td>\n",
       "    </tr>\n",
       "  </tbody>\n",
       "</table>\n",
       "</div>"
      ],
      "text/plain": [
       "      ZipCode RegionType StateName State             City  \\\n",
       "3451    95822        Zip        CA    CA       Sacramento   \n",
       "3090    90211        Zip        CA    CA    Beverly Hills   \n",
       "3612    95828        Zip        CA    CA           Florin   \n",
       "3905    90266        Zip        CA    CA  Manhattan Beach   \n",
       "3858    95816        Zip        CA    CA       Sacramento   \n",
       "\n",
       "                                    Metro          CountyName   1/31/14  \\\n",
       "3451  Sacramento--Roseville--Arden-Arcade   Sacramento County  115210.0   \n",
       "3090       Los Angeles-Long Beach-Anaheim  Los Angeles County  789562.0   \n",
       "3612  Sacramento--Roseville--Arden-Arcade   Sacramento County   94743.0   \n",
       "3905       Los Angeles-Long Beach-Anaheim  Los Angeles County  804901.0   \n",
       "3858  Sacramento--Roseville--Arden-Arcade   Sacramento County  179658.0   \n",
       "\n",
       "      2/28/21  3/31/21  Bdrm        CAGR        Lat         Lng  walk score  \\\n",
       "3451   390018   398346     1  245.756445  38.512871 -121.497029          87   \n",
       "3090  2575394  2551752     3  223.185766  34.066107 -118.384178          56   \n",
       "3612   293825   301028     1  217.731125  38.492988 -121.388467          83   \n",
       "3905  2540611  2511376     1  212.010545  33.890837 -118.398784          73   \n",
       "3858   547554   551084     1  206.740585  38.580018 -121.462758          19   \n",
       "\n",
       "      bike score  \n",
       "3451        64.0  \n",
       "3090        45.0  \n",
       "3612        62.0  \n",
       "3905        95.0  \n",
       "3858         8.0  "
      ]
     },
     "execution_count": 9,
     "metadata": {},
     "output_type": "execute_result"
    }
   ],
   "source": [
    "ideal_place = pd.merge(property_dataset,walkscore_map,on='ZipCode')\n",
    "ideal_place = ideal_place.sort_values(by='CAGR', ascending=False)\n",
    "ideal_place.head()"
   ]
  },
  {
   "cell_type": "code",
   "execution_count": 10,
   "metadata": {},
   "outputs": [],
   "source": [
    "ideal_place_bdr = ideal_place.loc[ideal_place['Bdrm']==int(bedrooms)]\n",
    "ideal_place_budget = ideal_place_bdr.loc[ideal_place_bdr['3/31/21']<=int(budget)]"
   ]
  },
  {
   "cell_type": "code",
   "execution_count": 11,
   "metadata": {},
   "outputs": [],
   "source": [
    "if walk_score == 'Yes':\n",
    "    ideal_place = ideal_place_budget.sort_values(by=['CAGR','walk score', '3/31/21'], ascending=False)\n",
    "    ideal_place = ideal_place[['ZipCode','City','CountyName','3/31/21','CAGR','walk score','bike score']]"
   ]
  },
  {
   "cell_type": "code",
   "execution_count": 12,
   "metadata": {},
   "outputs": [
    {
     "name": "stdout",
     "output_type": "stream",
     "text": [
      "\n",
      "Based on your preferences in bedrooms(3), budget ($300000), walking preferences(Yes) and biking preferences (No), your ideal top 5 cities to live, with the highest CAGR, are:\n"
     ]
    },
    {
     "data": {
      "text/html": [
       "<div>\n",
       "<style scoped>\n",
       "    .dataframe tbody tr th:only-of-type {\n",
       "        vertical-align: middle;\n",
       "    }\n",
       "\n",
       "    .dataframe tbody tr th {\n",
       "        vertical-align: top;\n",
       "    }\n",
       "\n",
       "    .dataframe thead th {\n",
       "        text-align: right;\n",
       "    }\n",
       "</style>\n",
       "<table border=\"1\" class=\"dataframe\">\n",
       "  <thead>\n",
       "    <tr style=\"text-align: right;\">\n",
       "      <th></th>\n",
       "      <th>ZipCode</th>\n",
       "      <th>City</th>\n",
       "      <th>CountyName</th>\n",
       "      <th>3/31/21</th>\n",
       "      <th>CAGR</th>\n",
       "      <th>walk score</th>\n",
       "      <th>bike score</th>\n",
       "    </tr>\n",
       "  </thead>\n",
       "  <tbody>\n",
       "    <tr>\n",
       "      <th>3876</th>\n",
       "      <td>95205</td>\n",
       "      <td>Stockton</td>\n",
       "      <td>San Joaquin County</td>\n",
       "      <td>287941</td>\n",
       "      <td>148.754676</td>\n",
       "      <td>38</td>\n",
       "      <td>61.0</td>\n",
       "    </tr>\n",
       "    <tr>\n",
       "      <th>3889</th>\n",
       "      <td>93505</td>\n",
       "      <td>California City</td>\n",
       "      <td>Kern County</td>\n",
       "      <td>193097</td>\n",
       "      <td>125.238540</td>\n",
       "      <td>4</td>\n",
       "      <td>26.0</td>\n",
       "    </tr>\n",
       "    <tr>\n",
       "      <th>2440</th>\n",
       "      <td>95388</td>\n",
       "      <td>Winton</td>\n",
       "      <td>Merced County</td>\n",
       "      <td>270790</td>\n",
       "      <td>123.107471</td>\n",
       "      <td>50</td>\n",
       "      <td>44.0</td>\n",
       "    </tr>\n",
       "    <tr>\n",
       "      <th>3883</th>\n",
       "      <td>95968</td>\n",
       "      <td>Palermo</td>\n",
       "      <td>Butte County</td>\n",
       "      <td>269714</td>\n",
       "      <td>115.495366</td>\n",
       "      <td>82</td>\n",
       "      <td>86.0</td>\n",
       "    </tr>\n",
       "    <tr>\n",
       "      <th>2644</th>\n",
       "      <td>93721</td>\n",
       "      <td>Fresno</td>\n",
       "      <td>Fresno County</td>\n",
       "      <td>258827</td>\n",
       "      <td>115.477281</td>\n",
       "      <td>17</td>\n",
       "      <td>29.0</td>\n",
       "    </tr>\n",
       "  </tbody>\n",
       "</table>\n",
       "</div>"
      ],
      "text/plain": [
       "      ZipCode             City          CountyName  3/31/21        CAGR  \\\n",
       "3876    95205         Stockton  San Joaquin County   287941  148.754676   \n",
       "3889    93505  California City         Kern County   193097  125.238540   \n",
       "2440    95388           Winton       Merced County   270790  123.107471   \n",
       "3883    95968          Palermo        Butte County   269714  115.495366   \n",
       "2644    93721           Fresno       Fresno County   258827  115.477281   \n",
       "\n",
       "      walk score  bike score  \n",
       "3876          38        61.0  \n",
       "3889           4        26.0  \n",
       "2440          50        44.0  \n",
       "3883          82        86.0  \n",
       "2644          17        29.0  "
      ]
     },
     "execution_count": 12,
     "metadata": {},
     "output_type": "execute_result"
    }
   ],
   "source": [
    "print(f'''\n",
    "Based on your preferences in bedrooms({bedrooms}), budget (${budget}), walking preferences({walk_score}) and biking preferences ({bike_score}), your ideal top 5 cities to live, with the highest CAGR, are:''')\n",
    "ideal_place.head()"
   ]
  }
 ],
 "metadata": {
  "kernelspec": {
   "display_name": "Python 3",
   "language": "python",
   "name": "python3"
  },
  "language_info": {
   "codemirror_mode": {
    "name": "ipython",
    "version": 3
   },
   "file_extension": ".py",
   "mimetype": "text/x-python",
   "name": "python",
   "nbconvert_exporter": "python",
   "pygments_lexer": "ipython3",
   "version": "3.8.5"
  }
 },
 "nbformat": 4,
 "nbformat_minor": 4
}
